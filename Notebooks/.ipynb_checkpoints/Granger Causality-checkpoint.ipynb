{
 "cells": [
  {
   "cell_type": "code",
   "execution_count": 9,
   "metadata": {},
   "outputs": [],
   "source": [
    "import pandas as pd\n",
    "import numpy as np\n",
    "from statsmodels.tsa.stattools import grangercausalitytests\n",
    "from statsmodels.tsa.api import VAR"
   ]
  },
  {
   "cell_type": "code",
   "execution_count": 2,
   "metadata": {},
   "outputs": [],
   "source": [
    "root = r\"C:\\Users\\mathe\\Documents\\Stanford\\Stats 207\\Final Project\\granger-casusality-agro\\Data\"\n",
    "#commodities = pd.read_csv(root + \"/commodities_prices.csv\").iloc[:,1:]\n",
    "#commodities_f = pd.read_csv(root + \"/commodities_prices_futures.csv\").iloc[:,1:]\n",
    "#fires_state = pd.read_csv(root + \"/n_fires_times_series.csv\").iloc[:,1:]\n",
    "#fires_national = pd.read_csv(root + \"/n_fires_time_series_national.csv\")#.iloc[:,1:]\n",
    "stat_weather = pd.read_csv(root + '/stat_weather.csv') \n",
    "stat_fires_national = pd.read_csv(root + '/fires_national_stationarized.csv') \n",
    "stat_commodities_futures = pd.read_csv(root + \"/commodities_stationarized_futures.csv\")\n",
    "stat_commodities = pd.read_csv(root + \"/commodities_stationarized.csv\")"
   ]
  },
  {
   "cell_type": "code",
   "execution_count": 3,
   "metadata": {},
   "outputs": [],
   "source": [
    "# Merge datasets\n",
    "#fires_commodities = fires_national.merge(commodities, left_on = 'date', right_on ='DATE').drop('date', axis = 1)\n",
    "stat_fires_national = stat_fires_national.merge(stat_commodities_futures, left_on = 'date', right_on = 'Date').merge(stat_commodities, on = 'date').merge(stat_weather, on = 'date')\n",
    "stat_fires_national = stat_fires_national.set_index('date').drop('Date', axis = 1)"
   ]
  },
  {
   "cell_type": "code",
   "execution_count": 4,
   "metadata": {},
   "outputs": [
    {
     "data": {
      "text/html": [
       "<div>\n",
       "<style scoped>\n",
       "    .dataframe tbody tr th:only-of-type {\n",
       "        vertical-align: middle;\n",
       "    }\n",
       "\n",
       "    .dataframe tbody tr th {\n",
       "        vertical-align: top;\n",
       "    }\n",
       "\n",
       "    .dataframe thead th {\n",
       "        text-align: right;\n",
       "    }\n",
       "</style>\n",
       "<table border=\"1\" class=\"dataframe\">\n",
       "  <thead>\n",
       "    <tr style=\"text-align: right;\">\n",
       "      <th></th>\n",
       "      <th>fires</th>\n",
       "      <th>f_beef</th>\n",
       "      <th>f_coffee</th>\n",
       "      <th>f_soy</th>\n",
       "      <th>f_corn</th>\n",
       "      <th>f_sugar</th>\n",
       "      <th>beef</th>\n",
       "      <th>coffee</th>\n",
       "      <th>soy</th>\n",
       "      <th>corn</th>\n",
       "      <th>sugar</th>\n",
       "      <th>EXBZUS</th>\n",
       "      <th>temperature</th>\n",
       "      <th>precipitation</th>\n",
       "    </tr>\n",
       "    <tr>\n",
       "      <th>date</th>\n",
       "      <th></th>\n",
       "      <th></th>\n",
       "      <th></th>\n",
       "      <th></th>\n",
       "      <th></th>\n",
       "      <th></th>\n",
       "      <th></th>\n",
       "      <th></th>\n",
       "      <th></th>\n",
       "      <th></th>\n",
       "      <th></th>\n",
       "      <th></th>\n",
       "      <th></th>\n",
       "      <th></th>\n",
       "    </tr>\n",
       "  </thead>\n",
       "  <tbody>\n",
       "    <tr>\n",
       "      <th>1998-06-01</th>\n",
       "      <td>4529.832068</td>\n",
       "      <td>-4.345002</td>\n",
       "      <td>17.710888</td>\n",
       "      <td>-59.581361</td>\n",
       "      <td>-30.496597</td>\n",
       "      <td>0.261843</td>\n",
       "      <td>-4.255749</td>\n",
       "      <td>-12.665757</td>\n",
       "      <td>-2.322447</td>\n",
       "      <td>-2.953769</td>\n",
       "      <td>0.457357</td>\n",
       "      <td>-0.001685</td>\n",
       "      <td>-1.438573</td>\n",
       "      <td>-20.644493</td>\n",
       "    </tr>\n",
       "    <tr>\n",
       "      <th>1998-07-01</th>\n",
       "      <td>27497.832068</td>\n",
       "      <td>-0.425002</td>\n",
       "      <td>-8.439112</td>\n",
       "      <td>-70.831361</td>\n",
       "      <td>-25.246597</td>\n",
       "      <td>-1.248157</td>\n",
       "      <td>-2.022669</td>\n",
       "      <td>6.787649</td>\n",
       "      <td>-38.450277</td>\n",
       "      <td>-16.353403</td>\n",
       "      <td>-0.289177</td>\n",
       "      <td>0.001515</td>\n",
       "      <td>-0.890768</td>\n",
       "      <td>-2.084493</td>\n",
       "    </tr>\n",
       "    <tr>\n",
       "      <th>1998-08-01</th>\n",
       "      <td>6438.832068</td>\n",
       "      <td>0.134998</td>\n",
       "      <td>-16.089112</td>\n",
       "      <td>3.418639</td>\n",
       "      <td>20.753403</td>\n",
       "      <td>-0.458157</td>\n",
       "      <td>-3.612517</td>\n",
       "      <td>-13.820935</td>\n",
       "      <td>-14.223733</td>\n",
       "      <td>-5.035659</td>\n",
       "      <td>-1.616048</td>\n",
       "      <td>0.000015</td>\n",
       "      <td>0.157038</td>\n",
       "      <td>14.745507</td>\n",
       "    </tr>\n",
       "    <tr>\n",
       "      <th>1998-09-01</th>\n",
       "      <td>-18463.167932</td>\n",
       "      <td>4.954998</td>\n",
       "      <td>4.610888</td>\n",
       "      <td>35.168639</td>\n",
       "      <td>7.503403</td>\n",
       "      <td>0.541843</td>\n",
       "      <td>-3.321289</td>\n",
       "      <td>-5.554048</td>\n",
       "      <td>4.959936</td>\n",
       "      <td>9.655562</td>\n",
       "      <td>0.127310</td>\n",
       "      <td>-0.000385</td>\n",
       "      <td>0.484843</td>\n",
       "      <td>44.465507</td>\n",
       "    </tr>\n",
       "    <tr>\n",
       "      <th>1998-10-01</th>\n",
       "      <td>-16681.167932</td>\n",
       "      <td>-1.475002</td>\n",
       "      <td>2.060888</td>\n",
       "      <td>32.418639</td>\n",
       "      <td>-0.746597</td>\n",
       "      <td>0.481843</td>\n",
       "      <td>-1.133183</td>\n",
       "      <td>6.232051</td>\n",
       "      <td>6.286378</td>\n",
       "      <td>-0.026750</td>\n",
       "      <td>0.535277</td>\n",
       "      <td>-0.004485</td>\n",
       "      <td>1.142648</td>\n",
       "      <td>54.055507</td>\n",
       "    </tr>\n",
       "    <tr>\n",
       "      <th>...</th>\n",
       "      <td>...</td>\n",
       "      <td>...</td>\n",
       "      <td>...</td>\n",
       "      <td>...</td>\n",
       "      <td>...</td>\n",
       "      <td>...</td>\n",
       "      <td>...</td>\n",
       "      <td>...</td>\n",
       "      <td>...</td>\n",
       "      <td>...</td>\n",
       "      <td>...</td>\n",
       "      <td>...</td>\n",
       "      <td>...</td>\n",
       "      <td>...</td>\n",
       "    </tr>\n",
       "    <tr>\n",
       "      <th>2021-07-01</th>\n",
       "      <td>35739.832068</td>\n",
       "      <td>-3.375002</td>\n",
       "      <td>13.660888</td>\n",
       "      <td>-57.461361</td>\n",
       "      <td>-13.996597</td>\n",
       "      <td>2.081843</td>\n",
       "      <td>26.138654</td>\n",
       "      <td>78.276280</td>\n",
       "      <td>-62.133525</td>\n",
       "      <td>-90.753802</td>\n",
       "      <td>10.100050</td>\n",
       "      <td>0.078815</td>\n",
       "      <td>-2.036566</td>\n",
       "      <td>-7.004493</td>\n",
       "    </tr>\n",
       "    <tr>\n",
       "      <th>2021-08-01</th>\n",
       "      <td>-1868.167932</td>\n",
       "      <td>1.384998</td>\n",
       "      <td>0.310888</td>\n",
       "      <td>-39.081361</td>\n",
       "      <td>1.753403</td>\n",
       "      <td>-0.248157</td>\n",
       "      <td>15.628572</td>\n",
       "      <td>52.334788</td>\n",
       "      <td>-172.864366</td>\n",
       "      <td>-106.846519</td>\n",
       "      <td>-0.253912</td>\n",
       "      <td>0.021515</td>\n",
       "      <td>-0.438761</td>\n",
       "      <td>6.825507</td>\n",
       "    </tr>\n",
       "    <tr>\n",
       "      <th>2021-09-01</th>\n",
       "      <td>-21473.167932</td>\n",
       "      <td>6.554998</td>\n",
       "      <td>9.710888</td>\n",
       "      <td>-23.831361</td>\n",
       "      <td>30.503403</td>\n",
       "      <td>-1.428157</td>\n",
       "      <td>73.716618</td>\n",
       "      <td>143.049044</td>\n",
       "      <td>21.266128</td>\n",
       "      <td>80.218119</td>\n",
       "      <td>6.813566</td>\n",
       "      <td>0.253815</td>\n",
       "      <td>0.889044</td>\n",
       "      <td>65.105507</td>\n",
       "    </tr>\n",
       "    <tr>\n",
       "      <th>2021-10-01</th>\n",
       "      <td>-16732.167932</td>\n",
       "      <td>8.254998</td>\n",
       "      <td>29.060888</td>\n",
       "      <td>-21.081361</td>\n",
       "      <td>-2.246597</td>\n",
       "      <td>-0.708157</td>\n",
       "      <td>43.222303</td>\n",
       "      <td>103.473682</td>\n",
       "      <td>20.127885</td>\n",
       "      <td>54.367095</td>\n",
       "      <td>0.990995</td>\n",
       "      <td>0.016415</td>\n",
       "      <td>0.816849</td>\n",
       "      <td>56.285507</td>\n",
       "    </tr>\n",
       "    <tr>\n",
       "      <th>2021-11-01</th>\n",
       "      <td>-7195.167932</td>\n",
       "      <td>2.774998</td>\n",
       "      <td>-7.389112</td>\n",
       "      <td>108.918639</td>\n",
       "      <td>25.253403</td>\n",
       "      <td>0.281843</td>\n",
       "      <td>33.777793</td>\n",
       "      <td>73.420580</td>\n",
       "      <td>143.328337</td>\n",
       "      <td>108.602147</td>\n",
       "      <td>-1.745267</td>\n",
       "      <td>0.079315</td>\n",
       "      <td>0.264654</td>\n",
       "      <td>39.095507</td>\n",
       "    </tr>\n",
       "  </tbody>\n",
       "</table>\n",
       "<p>282 rows × 14 columns</p>\n",
       "</div>"
      ],
      "text/plain": [
       "                   fires    f_beef   f_coffee       f_soy     f_corn  \\\n",
       "date                                                                   \n",
       "1998-06-01   4529.832068 -4.345002  17.710888  -59.581361 -30.496597   \n",
       "1998-07-01  27497.832068 -0.425002  -8.439112  -70.831361 -25.246597   \n",
       "1998-08-01   6438.832068  0.134998 -16.089112    3.418639  20.753403   \n",
       "1998-09-01 -18463.167932  4.954998   4.610888   35.168639   7.503403   \n",
       "1998-10-01 -16681.167932 -1.475002   2.060888   32.418639  -0.746597   \n",
       "...                  ...       ...        ...         ...        ...   \n",
       "2021-07-01  35739.832068 -3.375002  13.660888  -57.461361 -13.996597   \n",
       "2021-08-01  -1868.167932  1.384998   0.310888  -39.081361   1.753403   \n",
       "2021-09-01 -21473.167932  6.554998   9.710888  -23.831361  30.503403   \n",
       "2021-10-01 -16732.167932  8.254998  29.060888  -21.081361  -2.246597   \n",
       "2021-11-01  -7195.167932  2.774998  -7.389112  108.918639  25.253403   \n",
       "\n",
       "             f_sugar       beef      coffee         soy        corn  \\\n",
       "date                                                                  \n",
       "1998-06-01  0.261843  -4.255749  -12.665757   -2.322447   -2.953769   \n",
       "1998-07-01 -1.248157  -2.022669    6.787649  -38.450277  -16.353403   \n",
       "1998-08-01 -0.458157  -3.612517  -13.820935  -14.223733   -5.035659   \n",
       "1998-09-01  0.541843  -3.321289   -5.554048    4.959936    9.655562   \n",
       "1998-10-01  0.481843  -1.133183    6.232051    6.286378   -0.026750   \n",
       "...              ...        ...         ...         ...         ...   \n",
       "2021-07-01  2.081843  26.138654   78.276280  -62.133525  -90.753802   \n",
       "2021-08-01 -0.248157  15.628572   52.334788 -172.864366 -106.846519   \n",
       "2021-09-01 -1.428157  73.716618  143.049044   21.266128   80.218119   \n",
       "2021-10-01 -0.708157  43.222303  103.473682   20.127885   54.367095   \n",
       "2021-11-01  0.281843  33.777793   73.420580  143.328337  108.602147   \n",
       "\n",
       "                sugar    EXBZUS  temperature  precipitation  \n",
       "date                                                         \n",
       "1998-06-01   0.457357 -0.001685    -1.438573     -20.644493  \n",
       "1998-07-01  -0.289177  0.001515    -0.890768      -2.084493  \n",
       "1998-08-01  -1.616048  0.000015     0.157038      14.745507  \n",
       "1998-09-01   0.127310 -0.000385     0.484843      44.465507  \n",
       "1998-10-01   0.535277 -0.004485     1.142648      54.055507  \n",
       "...               ...       ...          ...            ...  \n",
       "2021-07-01  10.100050  0.078815    -2.036566      -7.004493  \n",
       "2021-08-01  -0.253912  0.021515    -0.438761       6.825507  \n",
       "2021-09-01   6.813566  0.253815     0.889044      65.105507  \n",
       "2021-10-01   0.990995  0.016415     0.816849      56.285507  \n",
       "2021-11-01  -1.745267  0.079315     0.264654      39.095507  \n",
       "\n",
       "[282 rows x 14 columns]"
      ]
     },
     "execution_count": 4,
     "metadata": {},
     "output_type": "execute_result"
    }
   ],
   "source": [
    "stat_fires_national"
   ]
  },
  {
   "cell_type": "markdown",
   "metadata": {},
   "source": [
    "# Granger Causality Tests (Spot Prices)"
   ]
  },
  {
   "cell_type": "code",
   "execution_count": 42,
   "metadata": {},
   "outputs": [
    {
     "name": "stdout",
     "output_type": "stream",
     "text": [
      "\n",
      "Granger Causality\n",
      "number of lags (no zero) 3\n",
      "ssr based F test:         F=0.7268  , p=0.5367  , df_denom=282, df_num=3\n",
      "ssr based chi2 test:   chi2=2.2347  , p=0.5252  , df=3\n",
      "likelihood ratio test: chi2=2.2261  , p=0.5268  , df=3\n",
      "parameter F test:         F=0.7268  , p=0.5367  , df_denom=282, df_num=3\n"
     ]
    },
    {
     "data": {
      "text/plain": [
       "{3: ({'ssr_ftest': (0.7268461838562242, 0.5366921639213433, 282.0, 3),\n",
       "   'ssr_chi2test': (2.234665395047328, 0.5251526837079126, 3),\n",
       "   'lrtest': (2.226070005021029, 0.526831664247478, 3),\n",
       "   'params_ftest': (0.7268461838562154, 0.5366921639213433, 282.0, 3.0)},\n",
       "  [<statsmodels.regression.linear_model.RegressionResultsWrapper at 0x294846f3220>,\n",
       "   <statsmodels.regression.linear_model.RegressionResultsWrapper at 0x294846f3fa0>,\n",
       "   array([[0., 0., 0., 1., 0., 0., 0.],\n",
       "          [0., 0., 0., 0., 1., 0., 0.],\n",
       "          [0., 0., 0., 0., 0., 1., 0.]])])}"
      ]
     },
     "execution_count": 42,
     "metadata": {},
     "output_type": "execute_result"
    }
   ],
   "source": [
    "# Beef\n",
    "grangercausalitytests(fires_commodities[['fires', 'beef']], maxlag=[3])"
   ]
  },
  {
   "cell_type": "code",
   "execution_count": 43,
   "metadata": {},
   "outputs": [
    {
     "name": "stdout",
     "output_type": "stream",
     "text": [
      "\n",
      "Granger Causality\n",
      "number of lags (no zero) 3\n",
      "ssr based F test:         F=1.3312  , p=0.2644  , df_denom=282, df_num=3\n",
      "ssr based chi2 test:   chi2=4.0927  , p=0.2516  , df=3\n",
      "likelihood ratio test: chi2=4.0640  , p=0.2546  , df=3\n",
      "parameter F test:         F=1.3312  , p=0.2644  , df_denom=282, df_num=3\n"
     ]
    },
    {
     "data": {
      "text/plain": [
       "{3: ({'ssr_ftest': (1.3311866592038273, 0.26444253515636335, 282.0, 3),\n",
       "   'ssr_chi2test': (4.092690899041554, 0.25162757165253036, 3),\n",
       "   'lrtest': (4.0639821774830125, 0.254637579293492, 3),\n",
       "   'params_ftest': (1.3311866592038675, 0.26444253515635624, 282.0, 3.0)},\n",
       "  [<statsmodels.regression.linear_model.RegressionResultsWrapper at 0x294846f3b80>,\n",
       "   <statsmodels.regression.linear_model.RegressionResultsWrapper at 0x294846f3f10>,\n",
       "   array([[0., 0., 0., 1., 0., 0., 0.],\n",
       "          [0., 0., 0., 0., 1., 0., 0.],\n",
       "          [0., 0., 0., 0., 0., 1., 0.]])])}"
      ]
     },
     "execution_count": 43,
     "metadata": {},
     "output_type": "execute_result"
    }
   ],
   "source": [
    "# Corn\n",
    "grangercausalitytests(fires_commodities[['fires', 'corn']], maxlag=[3])"
   ]
  },
  {
   "cell_type": "code",
   "execution_count": 44,
   "metadata": {},
   "outputs": [
    {
     "name": "stdout",
     "output_type": "stream",
     "text": [
      "\n",
      "Granger Causality\n",
      "number of lags (no zero) 3\n",
      "ssr based F test:         F=2.0352  , p=0.1091  , df_denom=282, df_num=3\n",
      "ssr based chi2 test:   chi2=6.2572  , p=0.0997  , df=3\n",
      "likelihood ratio test: chi2=6.1904  , p=0.1027  , df=3\n",
      "parameter F test:         F=2.0352  , p=0.1091  , df_denom=282, df_num=3\n"
     ]
    },
    {
     "data": {
      "text/plain": [
       "{3: ({'ssr_ftest': (2.03520468095978, 0.10914890300781042, 282.0, 3),\n",
       "   'ssr_chi2test': (6.2571718382699615, 0.09974703066387818, 3),\n",
       "   'lrtest': (6.190396588839576, 0.10270564560803973, 3),\n",
       "   'params_ftest': (2.035204680959831, 0.10914890300780089, 282.0, 3.0)},\n",
       "  [<statsmodels.regression.linear_model.RegressionResultsWrapper at 0x294846cc190>,\n",
       "   <statsmodels.regression.linear_model.RegressionResultsWrapper at 0x294846cc430>,\n",
       "   array([[0., 0., 0., 1., 0., 0., 0.],\n",
       "          [0., 0., 0., 0., 1., 0., 0.],\n",
       "          [0., 0., 0., 0., 0., 1., 0.]])])}"
      ]
     },
     "execution_count": 44,
     "metadata": {},
     "output_type": "execute_result"
    }
   ],
   "source": [
    "# Sugar\n",
    "grangercausalitytests(fires_commodities[['fires', 'sugar']], maxlag=[3])"
   ]
  },
  {
   "cell_type": "code",
   "execution_count": 45,
   "metadata": {},
   "outputs": [
    {
     "name": "stdout",
     "output_type": "stream",
     "text": [
      "\n",
      "Granger Causality\n",
      "number of lags (no zero) 3\n",
      "ssr based F test:         F=0.5105  , p=0.6754  , df_denom=282, df_num=3\n",
      "ssr based chi2 test:   chi2=1.5695  , p=0.6663  , df=3\n",
      "likelihood ratio test: chi2=1.5653  , p=0.6673  , df=3\n",
      "parameter F test:         F=0.5105  , p=0.6754  , df_denom=282, df_num=3\n"
     ]
    },
    {
     "data": {
      "text/plain": [
       "{3: ({'ssr_ftest': (0.5105000407998619, 0.6753502366062617, 282.0, 3),\n",
       "   'ssr_chi2test': (1.5695160828846815, 0.6663214231461254, 3),\n",
       "   'lrtest': (1.5652695464341377, 0.6672900996527893, 3),\n",
       "   'params_ftest': (0.51050004079988, 0.6753502366062472, 282.0, 3.0)},\n",
       "  [<statsmodels.regression.linear_model.RegressionResultsWrapper at 0x294846f36a0>,\n",
       "   <statsmodels.regression.linear_model.RegressionResultsWrapper at 0x294846f33d0>,\n",
       "   array([[0., 0., 0., 1., 0., 0., 0.],\n",
       "          [0., 0., 0., 0., 1., 0., 0.],\n",
       "          [0., 0., 0., 0., 0., 1., 0.]])])}"
      ]
     },
     "execution_count": 45,
     "metadata": {},
     "output_type": "execute_result"
    }
   ],
   "source": [
    "# Coffee\n",
    "grangercausalitytests(fires_commodities[['fires', 'coffee']], maxlag=[3])"
   ]
  },
  {
   "cell_type": "code",
   "execution_count": 46,
   "metadata": {},
   "outputs": [
    {
     "name": "stdout",
     "output_type": "stream",
     "text": [
      "\n",
      "Granger Causality\n",
      "number of lags (no zero) 3\n",
      "ssr based F test:         F=1.3492  , p=0.2587  , df_denom=282, df_num=3\n",
      "ssr based chi2 test:   chi2=4.1482  , p=0.2459  , df=3\n",
      "likelihood ratio test: chi2=4.1187  , p=0.2489  , df=3\n",
      "parameter F test:         F=1.3492  , p=0.2587  , df_denom=282, df_num=3\n"
     ]
    },
    {
     "data": {
      "text/plain": [
       "{3: ({'ssr_ftest': (1.3492485461946873, 0.2586619703535822, 282.0, 3),\n",
       "   'ssr_chi2test': (4.148221594151751, 0.24589728324253934, 3),\n",
       "   'lrtest': (4.118732266030747, 0.2489253217378368, 3),\n",
       "   'params_ftest': (1.3492485461947157, 0.25866197035356653, 282.0, 3.0)},\n",
       "  [<statsmodels.regression.linear_model.RegressionResultsWrapper at 0x294846f3130>,\n",
       "   <statsmodels.regression.linear_model.RegressionResultsWrapper at 0x294846f3d00>,\n",
       "   array([[0., 0., 0., 1., 0., 0., 0.],\n",
       "          [0., 0., 0., 0., 1., 0., 0.],\n",
       "          [0., 0., 0., 0., 0., 1., 0.]])])}"
      ]
     },
     "execution_count": 46,
     "metadata": {},
     "output_type": "execute_result"
    }
   ],
   "source": [
    "# Soy\n",
    "grangercausalitytests(fires_commodities[['fires', 'soy']], maxlag=[3])"
   ]
  },
  {
   "cell_type": "markdown",
   "metadata": {},
   "source": [
    "# Granger Causality Tests (Future Prices)"
   ]
  },
  {
   "cell_type": "code",
   "execution_count": 18,
   "metadata": {},
   "outputs": [],
   "source": [
    "# Merge two datasets\n",
    "fires_commodities_futures = fires_national.merge(commodities_f, left_on = 'date', right_on ='Date').drop('Date', axis = 1)"
   ]
  },
  {
   "cell_type": "code",
   "execution_count": 19,
   "metadata": {},
   "outputs": [
    {
     "name": "stdout",
     "output_type": "stream",
     "text": [
      "\n",
      "Granger Causality\n",
      "number of lags (no zero) 3\n",
      "ssr based F test:         F=0.4618  , p=0.7092  , df_denom=282, df_num=3\n",
      "ssr based chi2 test:   chi2=1.4197  , p=0.7009  , df=3\n",
      "likelihood ratio test: chi2=1.4162  , p=0.7017  , df=3\n",
      "parameter F test:         F=0.4618  , p=0.7092  , df_denom=282, df_num=3\n"
     ]
    },
    {
     "data": {
      "text/plain": [
       "{3: ({'ssr_ftest': (0.46177029052588614, 0.7092037350608094, 282.0, 3),\n",
       "   'ssr_chi2test': (1.4196980208721393, 0.7009239711668387, 3),\n",
       "   'lrtest': (1.4162223013900075, 0.7017365782661671, 3),\n",
       "   'params_ftest': (0.4617702905258927, 0.7092037350607945, 282.0, 3.0)},\n",
       "  [<statsmodels.regression.linear_model.RegressionResultsWrapper at 0x15beae89430>,\n",
       "   <statsmodels.regression.linear_model.RegressionResultsWrapper at 0x15b8a435880>,\n",
       "   array([[0., 0., 0., 1., 0., 0., 0.],\n",
       "          [0., 0., 0., 0., 1., 0., 0.],\n",
       "          [0., 0., 0., 0., 0., 1., 0.]])])}"
      ]
     },
     "execution_count": 19,
     "metadata": {},
     "output_type": "execute_result"
    }
   ],
   "source": [
    "# Beef\n",
    "grangercausalitytests(fires_commodities_futures[['fires', 'f_beef']], maxlag=[3])"
   ]
  },
  {
   "cell_type": "code",
   "execution_count": 20,
   "metadata": {},
   "outputs": [
    {
     "name": "stdout",
     "output_type": "stream",
     "text": [
      "\n",
      "Granger Causality\n",
      "number of lags (no zero) 3\n",
      "ssr based F test:         F=0.6017  , p=0.6144  , df_denom=282, df_num=3\n",
      "ssr based chi2 test:   chi2=1.8501  , p=0.6041  , df=3\n",
      "likelihood ratio test: chi2=1.8442  , p=0.6054  , df=3\n",
      "parameter F test:         F=0.6017  , p=0.6144  , df_denom=282, df_num=3\n"
     ]
    },
    {
     "data": {
      "text/plain": [
       "{3: ({'ssr_ftest': (0.6017466300124396, 0.6143539922809163, 282.0, 3),\n",
       "   'ssr_chi2test': (1.8500508092935644, 0.604104351003788, 3),\n",
       "   'lrtest': (1.8441543547214678, 0.6053739110367358, 3),\n",
       "   'params_ftest': (0.6017466300124534, 0.6143539922809163, 282.0, 3.0)},\n",
       "  [<statsmodels.regression.linear_model.RegressionResultsWrapper at 0x15b8a365d00>,\n",
       "   <statsmodels.regression.linear_model.RegressionResultsWrapper at 0x15b8a365d30>,\n",
       "   array([[0., 0., 0., 1., 0., 0., 0.],\n",
       "          [0., 0., 0., 0., 1., 0., 0.],\n",
       "          [0., 0., 0., 0., 0., 1., 0.]])])}"
      ]
     },
     "execution_count": 20,
     "metadata": {},
     "output_type": "execute_result"
    }
   ],
   "source": [
    "# Corn\n",
    "grangercausalitytests(fires_commodities_futures[['fires', 'f_corn']], maxlag=[3])"
   ]
  },
  {
   "cell_type": "code",
   "execution_count": 21,
   "metadata": {},
   "outputs": [
    {
     "name": "stdout",
     "output_type": "stream",
     "text": [
      "\n",
      "Granger Causality\n",
      "number of lags (no zero) 3\n",
      "ssr based F test:         F=5.4272  , p=0.0012  , df_denom=282, df_num=3\n",
      "ssr based chi2 test:   chi2=16.6856 , p=0.0008  , df=3\n",
      "likelihood ratio test: chi2=16.2217 , p=0.0010  , df=3\n",
      "parameter F test:         F=5.4272  , p=0.0012  , df_denom=282, df_num=3\n"
     ]
    },
    {
     "data": {
      "text/plain": [
       "{3: ({'ssr_ftest': (5.427162561840838, 0.0012133244166585265, 282.0, 3),\n",
       "   'ssr_chi2test': (16.685638089063854, 0.000820130634091877, 3),\n",
       "   'lrtest': (16.22173162962281, 0.0010212487042462744, 3),\n",
       "   'params_ftest': (5.427162561840817, 0.0012133244166585492, 282.0, 3.0)},\n",
       "  [<statsmodels.regression.linear_model.RegressionResultsWrapper at 0x15b8a435fd0>,\n",
       "   <statsmodels.regression.linear_model.RegressionResultsWrapper at 0x15b8a435520>,\n",
       "   array([[0., 0., 0., 1., 0., 0., 0.],\n",
       "          [0., 0., 0., 0., 1., 0., 0.],\n",
       "          [0., 0., 0., 0., 0., 1., 0.]])])}"
      ]
     },
     "execution_count": 21,
     "metadata": {},
     "output_type": "execute_result"
    }
   ],
   "source": [
    "# Sugar\n",
    "grangercausalitytests(fires_commodities_futures[['fires', 'f_sugar']], maxlag=[3])"
   ]
  },
  {
   "cell_type": "code",
   "execution_count": 22,
   "metadata": {},
   "outputs": [
    {
     "name": "stdout",
     "output_type": "stream",
     "text": [
      "\n",
      "Granger Causality\n",
      "number of lags (no zero) 3\n",
      "ssr based F test:         F=0.6369  , p=0.5918  , df_denom=282, df_num=3\n",
      "ssr based chi2 test:   chi2=1.9582  , p=0.5811  , df=3\n",
      "likelihood ratio test: chi2=1.9516  , p=0.5825  , df=3\n",
      "parameter F test:         F=0.6369  , p=0.5918  , df_denom=282, df_num=3\n"
     ]
    },
    {
     "data": {
      "text/plain": [
       "{3: ({'ssr_ftest': (0.6369246481512533, 0.5917832965392767, 282.0, 3),\n",
       "   'ssr_chi2test': (1.9582045033586404, 0.58112667420706, 3),\n",
       "   'lrtest': (1.9516001245592633, 0.5825128007208489, 3),\n",
       "   'params_ftest': (0.6369246481512504, 0.5917832965392767, 282.0, 3.0)},\n",
       "  [<statsmodels.regression.linear_model.RegressionResultsWrapper at 0x15b8a4351f0>,\n",
       "   <statsmodels.regression.linear_model.RegressionResultsWrapper at 0x15b8a435df0>,\n",
       "   array([[0., 0., 0., 1., 0., 0., 0.],\n",
       "          [0., 0., 0., 0., 1., 0., 0.],\n",
       "          [0., 0., 0., 0., 0., 1., 0.]])])}"
      ]
     },
     "execution_count": 22,
     "metadata": {},
     "output_type": "execute_result"
    }
   ],
   "source": [
    "# Coffee\n",
    "grangercausalitytests(fires_commodities_futures[['fires', 'f_coffee']], maxlag=[3])"
   ]
  },
  {
   "cell_type": "code",
   "execution_count": 23,
   "metadata": {},
   "outputs": [
    {
     "name": "stdout",
     "output_type": "stream",
     "text": [
      "\n",
      "Granger Causality\n",
      "number of lags (no zero) 3\n",
      "ssr based F test:         F=1.1142  , p=0.3436  , df_denom=282, df_num=3\n",
      "ssr based chi2 test:   chi2=3.4257  , p=0.3305  , df=3\n",
      "likelihood ratio test: chi2=3.4056  , p=0.3332  , df=3\n",
      "parameter F test:         F=1.1142  , p=0.3436  , df_denom=282, df_num=3\n"
     ]
    },
    {
     "data": {
      "text/plain": [
       "{3: ({'ssr_ftest': (1.1142428134797844, 0.3436337148305664, 282.0, 3),\n",
       "   'ssr_chi2test': (3.425703969102742, 0.33052667353465176, 3),\n",
       "   'lrtest': (3.405559460728, 0.33321887687001955, 3),\n",
       "   'params_ftest': (1.1142428134807292, 0.3436337148301731, 282.0, 3.0)},\n",
       "  [<statsmodels.regression.linear_model.RegressionResultsWrapper at 0x15b8a3facd0>,\n",
       "   <statsmodels.regression.linear_model.RegressionResultsWrapper at 0x15b8a3fa8b0>,\n",
       "   array([[0., 0., 0., 1., 0., 0., 0.],\n",
       "          [0., 0., 0., 0., 1., 0., 0.],\n",
       "          [0., 0., 0., 0., 0., 1., 0.]])])}"
      ]
     },
     "execution_count": 23,
     "metadata": {},
     "output_type": "execute_result"
    }
   ],
   "source": [
    "# Soy\n",
    "grangercausalitytests(fires_commodities_futures[['fires', 'f_soy']], maxlag=[3])"
   ]
  },
  {
   "cell_type": "markdown",
   "metadata": {},
   "source": [
    "# Granger Causality - Stationarity and Regressors"
   ]
  },
  {
   "cell_type": "code",
   "execution_count": 11,
   "metadata": {},
   "outputs": [
    {
     "name": "stderr",
     "output_type": "stream",
     "text": [
      "C:\\Users\\mathe\\anaconda3\\lib\\site-packages\\statsmodels\\tsa\\base\\tsa_model.py:471: ValueWarning: No frequency information was provided, so inferred frequency MS will be used.\n",
      "  self._init_dates(dates, freq)\n"
     ]
    },
    {
     "data": {
      "text/plain": [
       "<statsmodels.tsa.vector_ar.var_model.LagOrderResults at 0x22874d88b50>"
      ]
     },
     "execution_count": 11,
     "metadata": {},
     "output_type": "execute_result"
    }
   ],
   "source": [
    "model = VAR(stat_fires_national)\n",
    "model.select_order(15)"
   ]
  },
  {
   "cell_type": "code",
   "execution_count": 16,
   "metadata": {},
   "outputs": [
    {
     "data": {
      "text/html": [
       "<div>\n",
       "<style scoped>\n",
       "    .dataframe tbody tr th:only-of-type {\n",
       "        vertical-align: middle;\n",
       "    }\n",
       "\n",
       "    .dataframe tbody tr th {\n",
       "        vertical-align: top;\n",
       "    }\n",
       "\n",
       "    .dataframe thead th {\n",
       "        text-align: right;\n",
       "    }\n",
       "</style>\n",
       "<table border=\"1\" class=\"dataframe\">\n",
       "  <thead>\n",
       "    <tr style=\"text-align: right;\">\n",
       "      <th></th>\n",
       "      <th>fires</th>\n",
       "      <th>f_beef</th>\n",
       "      <th>f_coffee</th>\n",
       "      <th>f_soy</th>\n",
       "      <th>f_corn</th>\n",
       "      <th>f_sugar</th>\n",
       "      <th>beef</th>\n",
       "      <th>coffee</th>\n",
       "      <th>soy</th>\n",
       "      <th>corn</th>\n",
       "      <th>sugar</th>\n",
       "      <th>EXBZUS</th>\n",
       "      <th>temperature</th>\n",
       "      <th>precipitation</th>\n",
       "    </tr>\n",
       "    <tr>\n",
       "      <th>date</th>\n",
       "      <th></th>\n",
       "      <th></th>\n",
       "      <th></th>\n",
       "      <th></th>\n",
       "      <th></th>\n",
       "      <th></th>\n",
       "      <th></th>\n",
       "      <th></th>\n",
       "      <th></th>\n",
       "      <th></th>\n",
       "      <th></th>\n",
       "      <th></th>\n",
       "      <th></th>\n",
       "      <th></th>\n",
       "    </tr>\n",
       "  </thead>\n",
       "  <tbody>\n",
       "    <tr>\n",
       "      <th>1998-06-01</th>\n",
       "      <td>4529.832068</td>\n",
       "      <td>-4.345002</td>\n",
       "      <td>17.710888</td>\n",
       "      <td>-59.581361</td>\n",
       "      <td>-30.496597</td>\n",
       "      <td>0.261843</td>\n",
       "      <td>-4.255749</td>\n",
       "      <td>-12.665757</td>\n",
       "      <td>-2.322447</td>\n",
       "      <td>-2.953769</td>\n",
       "      <td>0.457357</td>\n",
       "      <td>-0.001685</td>\n",
       "      <td>-1.438573</td>\n",
       "      <td>-20.644493</td>\n",
       "    </tr>\n",
       "    <tr>\n",
       "      <th>1998-07-01</th>\n",
       "      <td>27497.832068</td>\n",
       "      <td>-0.425002</td>\n",
       "      <td>-8.439112</td>\n",
       "      <td>-70.831361</td>\n",
       "      <td>-25.246597</td>\n",
       "      <td>-1.248157</td>\n",
       "      <td>-2.022669</td>\n",
       "      <td>6.787649</td>\n",
       "      <td>-38.450277</td>\n",
       "      <td>-16.353403</td>\n",
       "      <td>-0.289177</td>\n",
       "      <td>0.001515</td>\n",
       "      <td>-0.890768</td>\n",
       "      <td>-2.084493</td>\n",
       "    </tr>\n",
       "    <tr>\n",
       "      <th>1998-08-01</th>\n",
       "      <td>6438.832068</td>\n",
       "      <td>0.134998</td>\n",
       "      <td>-16.089112</td>\n",
       "      <td>3.418639</td>\n",
       "      <td>20.753403</td>\n",
       "      <td>-0.458157</td>\n",
       "      <td>-3.612517</td>\n",
       "      <td>-13.820935</td>\n",
       "      <td>-14.223733</td>\n",
       "      <td>-5.035659</td>\n",
       "      <td>-1.616048</td>\n",
       "      <td>0.000015</td>\n",
       "      <td>0.157038</td>\n",
       "      <td>14.745507</td>\n",
       "    </tr>\n",
       "    <tr>\n",
       "      <th>1998-09-01</th>\n",
       "      <td>-18463.167932</td>\n",
       "      <td>4.954998</td>\n",
       "      <td>4.610888</td>\n",
       "      <td>35.168639</td>\n",
       "      <td>7.503403</td>\n",
       "      <td>0.541843</td>\n",
       "      <td>-3.321289</td>\n",
       "      <td>-5.554048</td>\n",
       "      <td>4.959936</td>\n",
       "      <td>9.655562</td>\n",
       "      <td>0.127310</td>\n",
       "      <td>-0.000385</td>\n",
       "      <td>0.484843</td>\n",
       "      <td>44.465507</td>\n",
       "    </tr>\n",
       "    <tr>\n",
       "      <th>1998-10-01</th>\n",
       "      <td>-16681.167932</td>\n",
       "      <td>-1.475002</td>\n",
       "      <td>2.060888</td>\n",
       "      <td>32.418639</td>\n",
       "      <td>-0.746597</td>\n",
       "      <td>0.481843</td>\n",
       "      <td>-1.133183</td>\n",
       "      <td>6.232051</td>\n",
       "      <td>6.286378</td>\n",
       "      <td>-0.026750</td>\n",
       "      <td>0.535277</td>\n",
       "      <td>-0.004485</td>\n",
       "      <td>1.142648</td>\n",
       "      <td>54.055507</td>\n",
       "    </tr>\n",
       "  </tbody>\n",
       "</table>\n",
       "</div>"
      ],
      "text/plain": [
       "                   fires    f_beef   f_coffee      f_soy     f_corn   f_sugar  \\\n",
       "date                                                                            \n",
       "1998-06-01   4529.832068 -4.345002  17.710888 -59.581361 -30.496597  0.261843   \n",
       "1998-07-01  27497.832068 -0.425002  -8.439112 -70.831361 -25.246597 -1.248157   \n",
       "1998-08-01   6438.832068  0.134998 -16.089112   3.418639  20.753403 -0.458157   \n",
       "1998-09-01 -18463.167932  4.954998   4.610888  35.168639   7.503403  0.541843   \n",
       "1998-10-01 -16681.167932 -1.475002   2.060888  32.418639  -0.746597  0.481843   \n",
       "\n",
       "                beef     coffee        soy       corn     sugar    EXBZUS  \\\n",
       "date                                                                        \n",
       "1998-06-01 -4.255749 -12.665757  -2.322447  -2.953769  0.457357 -0.001685   \n",
       "1998-07-01 -2.022669   6.787649 -38.450277 -16.353403 -0.289177  0.001515   \n",
       "1998-08-01 -3.612517 -13.820935 -14.223733  -5.035659 -1.616048  0.000015   \n",
       "1998-09-01 -3.321289  -5.554048   4.959936   9.655562  0.127310 -0.000385   \n",
       "1998-10-01 -1.133183   6.232051   6.286378  -0.026750  0.535277 -0.004485   \n",
       "\n",
       "            temperature  precipitation  \n",
       "date                                    \n",
       "1998-06-01    -1.438573     -20.644493  \n",
       "1998-07-01    -0.890768      -2.084493  \n",
       "1998-08-01     0.157038      14.745507  \n",
       "1998-09-01     0.484843      44.465507  \n",
       "1998-10-01     1.142648      54.055507  "
      ]
     },
     "execution_count": 16,
     "metadata": {},
     "output_type": "execute_result"
    }
   ],
   "source": [
    "stat_fires_national.head()"
   ]
  },
  {
   "cell_type": "code",
   "execution_count": 12,
   "metadata": {},
   "outputs": [],
   "source": [
    "results = model.fit(maxlags=15, ic='aic')"
   ]
  },
  {
   "cell_type": "code",
   "execution_count": 30,
   "metadata": {},
   "outputs": [],
   "source": [
    "res = results.test_causality('fires', stat_fires_national.drop(['fires'], axis = 1), kind='f')"
   ]
  },
  {
   "cell_type": "code",
   "execution_count": 31,
   "metadata": {},
   "outputs": [
    {
     "data": {
      "text/plain": [
       "['f_beef',\n",
       " 'f_coffee',\n",
       " 'f_soy',\n",
       " 'f_corn',\n",
       " 'f_sugar',\n",
       " 'beef',\n",
       " 'coffee',\n",
       " 'soy',\n",
       " 'corn',\n",
       " 'sugar',\n",
       " 'EXBZUS',\n",
       " 'temperature',\n",
       " 'precipitation']"
      ]
     },
     "execution_count": 31,
     "metadata": {},
     "output_type": "execute_result"
    }
   ],
   "source": [
    "res.causing"
   ]
  },
  {
   "cell_type": "code",
   "execution_count": 32,
   "metadata": {},
   "outputs": [
    {
     "data": {
      "text/plain": [
       "['fires']"
      ]
     },
     "execution_count": 32,
     "metadata": {},
     "output_type": "execute_result"
    }
   ],
   "source": [
    "res.caused"
   ]
  },
  {
   "cell_type": "code",
   "execution_count": 33,
   "metadata": {},
   "outputs": [
    {
     "data": {
      "text/plain": [
       "0.027910736607028513"
      ]
     },
     "execution_count": 33,
     "metadata": {},
     "output_type": "execute_result"
    }
   ],
   "source": [
    "res.pvalue"
   ]
  },
  {
   "cell_type": "code",
   "execution_count": 64,
   "metadata": {},
   "outputs": [],
   "source": [
    "res = results.test_causality('fires', 'soy', kind='f')"
   ]
  },
  {
   "cell_type": "code",
   "execution_count": 65,
   "metadata": {},
   "outputs": [
    {
     "data": {
      "text/plain": [
       "0.053417337108889136"
      ]
     },
     "execution_count": 65,
     "metadata": {},
     "output_type": "execute_result"
    }
   ],
   "source": [
    "res.pvalue # soy, corn are at around 0.05"
   ]
  },
  {
   "cell_type": "code",
   "execution_count": null,
   "metadata": {},
   "outputs": [],
   "source": [
    "# Transform data to be stationary using cofounders (VAR), run stationary test and then apply Granger Causality\n",
    "# Check Granger causality for all of the prices together and add cofounders (one test)\n",
    "# Apply LASSO method and compare \n",
    "# Validate Granger causality - why does p-value increases as the number of lags increases?\n",
    "# Push to github\n",
    "# How to extend this to states (panel level?) (Leave for it later)"
   ]
  },
  {
   "cell_type": "markdown",
   "metadata": {},
   "source": [
    "To Dos:\n",
    "\n",
    "    - Make each commodity (and future) stationary by fitting a model to it\n",
    "    - Run granger causality test (normal)\n",
    "    - Run granger with LASSO (Check how to do it)\n",
    "    - Add wind speed and humidity\n",
    "    - Add all weather variables at the state level\n",
    "    \n",
    "    \n",
    "Discussions:\n",
    "    - Differenced precipitation and temperature (not stationary) are not stats significant in the SARIMX model, while they are when not differenced\n",
    "    - Why does p-value for Granger-Causality increases as the number of lags increases?\n",
    "    - Why does joint causality test gets significant p-value but individual tests dont?\n",
    "    - Any issues with adding too many variables to the Granger Causality test?"
   ]
  },
  {
   "cell_type": "code",
   "execution_count": null,
   "metadata": {},
   "outputs": [],
   "source": []
  }
 ],
 "metadata": {
  "kernelspec": {
   "display_name": "Python 3",
   "language": "python",
   "name": "python3"
  },
  "language_info": {
   "codemirror_mode": {
    "name": "ipython",
    "version": 3
   },
   "file_extension": ".py",
   "mimetype": "text/x-python",
   "name": "python",
   "nbconvert_exporter": "python",
   "pygments_lexer": "ipython3",
   "version": "3.8.3"
  },
  "latex_envs": {
   "LaTeX_envs_menu_present": true,
   "autoclose": false,
   "autocomplete": true,
   "bibliofile": "biblio.bib",
   "cite_by": "apalike",
   "current_citInitial": 1,
   "eqLabelWithNumbers": true,
   "eqNumInitial": 1,
   "hotkeys": {
    "equation": "Ctrl-E",
    "itemize": "Ctrl-I"
   },
   "labels_anchors": false,
   "latex_user_defs": false,
   "report_style_numbering": false,
   "user_envs_cfg": false
  },
  "toc": {
   "base_numbering": 1,
   "nav_menu": {},
   "number_sections": true,
   "sideBar": true,
   "skip_h1_title": false,
   "title_cell": "Table of Contents",
   "title_sidebar": "Contents",
   "toc_cell": false,
   "toc_position": {},
   "toc_section_display": true,
   "toc_window_display": true
  }
 },
 "nbformat": 4,
 "nbformat_minor": 4
}
