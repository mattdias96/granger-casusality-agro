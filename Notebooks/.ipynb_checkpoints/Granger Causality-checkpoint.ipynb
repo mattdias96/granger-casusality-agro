{
 "cells": [
  {
   "cell_type": "code",
   "execution_count": 1,
   "metadata": {},
   "outputs": [],
   "source": [
    "import pandas as pd\n",
    "import numpy as np\n",
    "from statsmodels.tsa.stattools import grangercausalitytests"
   ]
  },
  {
   "cell_type": "code",
   "execution_count": 17,
   "metadata": {},
   "outputs": [],
   "source": [
    "root = r\"C:\\Users\\mathe\\Documents\\Stanford\\Stats 207\\Final Project\\granger-casusality-agro\\Data\"\n",
    "commodities = pd.read_csv(root + \"/commodities_prices.csv\").iloc[:,1:]\n",
    "commodities_f = pd.read_csv(root + \"/commodities_prices_futures.csv\").iloc[:,1:]\n",
    "fires_state = pd.read_csv(root + \"/n_fires_times_series.csv\").iloc[:,1:]\n",
    "fires_national = pd.read_csv(root + \"/n_fires_time_series_national.csv\")#.iloc[:,1:]"
   ]
  },
  {
   "cell_type": "code",
   "execution_count": 36,
   "metadata": {},
   "outputs": [],
   "source": [
    "# Merge two datasets\n",
    "fires_commodities = fires_national.merge(commodities, left_on = 'date', right_on ='DATE').drop('date', axis = 1)"
   ]
  },
  {
   "cell_type": "code",
   "execution_count": 37,
   "metadata": {},
   "outputs": [
    {
     "data": {
      "text/html": [
       "<div>\n",
       "<style scoped>\n",
       "    .dataframe tbody tr th:only-of-type {\n",
       "        vertical-align: middle;\n",
       "    }\n",
       "\n",
       "    .dataframe tbody tr th {\n",
       "        vertical-align: top;\n",
       "    }\n",
       "\n",
       "    .dataframe thead th {\n",
       "        text-align: right;\n",
       "    }\n",
       "</style>\n",
       "<table border=\"1\" class=\"dataframe\">\n",
       "  <thead>\n",
       "    <tr style=\"text-align: right;\">\n",
       "      <th></th>\n",
       "      <th>fires</th>\n",
       "      <th>DATE</th>\n",
       "      <th>beef</th>\n",
       "      <th>coffee</th>\n",
       "      <th>soy</th>\n",
       "      <th>corn</th>\n",
       "      <th>sugar</th>\n",
       "      <th>EXBZUS</th>\n",
       "    </tr>\n",
       "  </thead>\n",
       "  <tbody>\n",
       "    <tr>\n",
       "      <th>0</th>\n",
       "      <td>3551</td>\n",
       "      <td>1998-06-01</td>\n",
       "      <td>89.432015</td>\n",
       "      <td>146.207311</td>\n",
       "      <td>266.779496</td>\n",
       "      <td>117.451980</td>\n",
       "      <td>9.348256</td>\n",
       "      <td>1.1543</td>\n",
       "    </tr>\n",
       "    <tr>\n",
       "      <th>1</th>\n",
       "      <td>8067</td>\n",
       "      <td>1998-07-01</td>\n",
       "      <td>88.193812</td>\n",
       "      <td>135.815631</td>\n",
       "      <td>269.940852</td>\n",
       "      <td>117.190463</td>\n",
       "      <td>10.016798</td>\n",
       "      <td>1.1614</td>\n",
       "    </tr>\n",
       "    <tr>\n",
       "      <th>2</th>\n",
       "      <td>35551</td>\n",
       "      <td>1998-08-01</td>\n",
       "      <td>89.188690</td>\n",
       "      <td>144.877357</td>\n",
       "      <td>236.974377</td>\n",
       "      <td>103.529312</td>\n",
       "      <td>9.938806</td>\n",
       "      <td>1.1717</td>\n",
       "    </tr>\n",
       "    <tr>\n",
       "      <th>3</th>\n",
       "      <td>41976</td>\n",
       "      <td>1998-09-01</td>\n",
       "      <td>88.593719</td>\n",
       "      <td>133.330499</td>\n",
       "      <td>228.234447</td>\n",
       "      <td>101.185905</td>\n",
       "      <td>8.533942</td>\n",
       "      <td>1.1805</td>\n",
       "    </tr>\n",
       "    <tr>\n",
       "      <th>4</th>\n",
       "      <td>23499</td>\n",
       "      <td>1998-10-01</td>\n",
       "      <td>88.289975</td>\n",
       "      <td>130.050529</td>\n",
       "      <td>238.678185</td>\n",
       "      <td>113.533719</td>\n",
       "      <td>8.872436</td>\n",
       "      <td>1.1889</td>\n",
       "    </tr>\n",
       "    <tr>\n",
       "      <th>...</th>\n",
       "      <td>...</td>\n",
       "      <td>...</td>\n",
       "      <td>...</td>\n",
       "      <td>...</td>\n",
       "      <td>...</td>\n",
       "      <td>...</td>\n",
       "      <td>...</td>\n",
       "      <td>...</td>\n",
       "    </tr>\n",
       "    <tr>\n",
       "      <th>287</th>\n",
       "      <td>6698</td>\n",
       "      <td>2022-05-01</td>\n",
       "      <td>1335.545591</td>\n",
       "      <td>1292.220420</td>\n",
       "      <td>3061.855605</td>\n",
       "      <td>1711.267490</td>\n",
       "      <td>95.662230</td>\n",
       "      <td>4.9615</td>\n",
       "    </tr>\n",
       "    <tr>\n",
       "      <th>288</th>\n",
       "      <td>7876</td>\n",
       "      <td>2022-06-01</td>\n",
       "      <td>1326.742057</td>\n",
       "      <td>1381.876707</td>\n",
       "      <td>3135.622044</td>\n",
       "      <td>1694.599377</td>\n",
       "      <td>94.866933</td>\n",
       "      <td>5.0477</td>\n",
       "    </tr>\n",
       "    <tr>\n",
       "      <th>289</th>\n",
       "      <td>14212</td>\n",
       "      <td>2022-07-01</td>\n",
       "      <td>1383.078386</td>\n",
       "      <td>1373.758168</td>\n",
       "      <td>3065.250103</td>\n",
       "      <td>1678.539738</td>\n",
       "      <td>98.452788</td>\n",
       "      <td>5.3682</td>\n",
       "    </tr>\n",
       "    <tr>\n",
       "      <th>290</th>\n",
       "      <td>47507</td>\n",
       "      <td>2022-08-01</td>\n",
       "      <td>1295.604296</td>\n",
       "      <td>1380.112472</td>\n",
       "      <td>2965.106961</td>\n",
       "      <td>1510.921835</td>\n",
       "      <td>92.849034</td>\n",
       "      <td>5.1404</td>\n",
       "    </tr>\n",
       "    <tr>\n",
       "      <th>291</th>\n",
       "      <td>60313</td>\n",
       "      <td>2022-09-01</td>\n",
       "      <td>1293.143264</td>\n",
       "      <td>1402.622481</td>\n",
       "      <td>2818.707563</td>\n",
       "      <td>1638.866876</td>\n",
       "      <td>95.359633</td>\n",
       "      <td>5.2436</td>\n",
       "    </tr>\n",
       "  </tbody>\n",
       "</table>\n",
       "<p>292 rows × 8 columns</p>\n",
       "</div>"
      ],
      "text/plain": [
       "     fires        DATE         beef       coffee          soy         corn  \\\n",
       "0     3551  1998-06-01    89.432015   146.207311   266.779496   117.451980   \n",
       "1     8067  1998-07-01    88.193812   135.815631   269.940852   117.190463   \n",
       "2    35551  1998-08-01    89.188690   144.877357   236.974377   103.529312   \n",
       "3    41976  1998-09-01    88.593719   133.330499   228.234447   101.185905   \n",
       "4    23499  1998-10-01    88.289975   130.050529   238.678185   113.533719   \n",
       "..     ...         ...          ...          ...          ...          ...   \n",
       "287   6698  2022-05-01  1335.545591  1292.220420  3061.855605  1711.267490   \n",
       "288   7876  2022-06-01  1326.742057  1381.876707  3135.622044  1694.599377   \n",
       "289  14212  2022-07-01  1383.078386  1373.758168  3065.250103  1678.539738   \n",
       "290  47507  2022-08-01  1295.604296  1380.112472  2965.106961  1510.921835   \n",
       "291  60313  2022-09-01  1293.143264  1402.622481  2818.707563  1638.866876   \n",
       "\n",
       "         sugar  EXBZUS  \n",
       "0     9.348256  1.1543  \n",
       "1    10.016798  1.1614  \n",
       "2     9.938806  1.1717  \n",
       "3     8.533942  1.1805  \n",
       "4     8.872436  1.1889  \n",
       "..         ...     ...  \n",
       "287  95.662230  4.9615  \n",
       "288  94.866933  5.0477  \n",
       "289  98.452788  5.3682  \n",
       "290  92.849034  5.1404  \n",
       "291  95.359633  5.2436  \n",
       "\n",
       "[292 rows x 8 columns]"
      ]
     },
     "execution_count": 37,
     "metadata": {},
     "output_type": "execute_result"
    }
   ],
   "source": [
    "fires_commodities"
   ]
  },
  {
   "cell_type": "markdown",
   "metadata": {},
   "source": [
    "# Granger Causality Tests (Spot Prices)"
   ]
  },
  {
   "cell_type": "code",
   "execution_count": 42,
   "metadata": {},
   "outputs": [
    {
     "name": "stdout",
     "output_type": "stream",
     "text": [
      "\n",
      "Granger Causality\n",
      "number of lags (no zero) 3\n",
      "ssr based F test:         F=0.7268  , p=0.5367  , df_denom=282, df_num=3\n",
      "ssr based chi2 test:   chi2=2.2347  , p=0.5252  , df=3\n",
      "likelihood ratio test: chi2=2.2261  , p=0.5268  , df=3\n",
      "parameter F test:         F=0.7268  , p=0.5367  , df_denom=282, df_num=3\n"
     ]
    },
    {
     "data": {
      "text/plain": [
       "{3: ({'ssr_ftest': (0.7268461838562242, 0.5366921639213433, 282.0, 3),\n",
       "   'ssr_chi2test': (2.234665395047328, 0.5251526837079126, 3),\n",
       "   'lrtest': (2.226070005021029, 0.526831664247478, 3),\n",
       "   'params_ftest': (0.7268461838562154, 0.5366921639213433, 282.0, 3.0)},\n",
       "  [<statsmodels.regression.linear_model.RegressionResultsWrapper at 0x294846f3220>,\n",
       "   <statsmodels.regression.linear_model.RegressionResultsWrapper at 0x294846f3fa0>,\n",
       "   array([[0., 0., 0., 1., 0., 0., 0.],\n",
       "          [0., 0., 0., 0., 1., 0., 0.],\n",
       "          [0., 0., 0., 0., 0., 1., 0.]])])}"
      ]
     },
     "execution_count": 42,
     "metadata": {},
     "output_type": "execute_result"
    }
   ],
   "source": [
    "# Beef\n",
    "grangercausalitytests(fires_commodities[['fires', 'beef']], maxlag=[3])"
   ]
  },
  {
   "cell_type": "code",
   "execution_count": 43,
   "metadata": {},
   "outputs": [
    {
     "name": "stdout",
     "output_type": "stream",
     "text": [
      "\n",
      "Granger Causality\n",
      "number of lags (no zero) 3\n",
      "ssr based F test:         F=1.3312  , p=0.2644  , df_denom=282, df_num=3\n",
      "ssr based chi2 test:   chi2=4.0927  , p=0.2516  , df=3\n",
      "likelihood ratio test: chi2=4.0640  , p=0.2546  , df=3\n",
      "parameter F test:         F=1.3312  , p=0.2644  , df_denom=282, df_num=3\n"
     ]
    },
    {
     "data": {
      "text/plain": [
       "{3: ({'ssr_ftest': (1.3311866592038273, 0.26444253515636335, 282.0, 3),\n",
       "   'ssr_chi2test': (4.092690899041554, 0.25162757165253036, 3),\n",
       "   'lrtest': (4.0639821774830125, 0.254637579293492, 3),\n",
       "   'params_ftest': (1.3311866592038675, 0.26444253515635624, 282.0, 3.0)},\n",
       "  [<statsmodels.regression.linear_model.RegressionResultsWrapper at 0x294846f3b80>,\n",
       "   <statsmodels.regression.linear_model.RegressionResultsWrapper at 0x294846f3f10>,\n",
       "   array([[0., 0., 0., 1., 0., 0., 0.],\n",
       "          [0., 0., 0., 0., 1., 0., 0.],\n",
       "          [0., 0., 0., 0., 0., 1., 0.]])])}"
      ]
     },
     "execution_count": 43,
     "metadata": {},
     "output_type": "execute_result"
    }
   ],
   "source": [
    "# Corn\n",
    "grangercausalitytests(fires_commodities[['fires', 'corn']], maxlag=[3])"
   ]
  },
  {
   "cell_type": "code",
   "execution_count": 44,
   "metadata": {},
   "outputs": [
    {
     "name": "stdout",
     "output_type": "stream",
     "text": [
      "\n",
      "Granger Causality\n",
      "number of lags (no zero) 3\n",
      "ssr based F test:         F=2.0352  , p=0.1091  , df_denom=282, df_num=3\n",
      "ssr based chi2 test:   chi2=6.2572  , p=0.0997  , df=3\n",
      "likelihood ratio test: chi2=6.1904  , p=0.1027  , df=3\n",
      "parameter F test:         F=2.0352  , p=0.1091  , df_denom=282, df_num=3\n"
     ]
    },
    {
     "data": {
      "text/plain": [
       "{3: ({'ssr_ftest': (2.03520468095978, 0.10914890300781042, 282.0, 3),\n",
       "   'ssr_chi2test': (6.2571718382699615, 0.09974703066387818, 3),\n",
       "   'lrtest': (6.190396588839576, 0.10270564560803973, 3),\n",
       "   'params_ftest': (2.035204680959831, 0.10914890300780089, 282.0, 3.0)},\n",
       "  [<statsmodels.regression.linear_model.RegressionResultsWrapper at 0x294846cc190>,\n",
       "   <statsmodels.regression.linear_model.RegressionResultsWrapper at 0x294846cc430>,\n",
       "   array([[0., 0., 0., 1., 0., 0., 0.],\n",
       "          [0., 0., 0., 0., 1., 0., 0.],\n",
       "          [0., 0., 0., 0., 0., 1., 0.]])])}"
      ]
     },
     "execution_count": 44,
     "metadata": {},
     "output_type": "execute_result"
    }
   ],
   "source": [
    "# Sugar\n",
    "grangercausalitytests(fires_commodities[['fires', 'sugar']], maxlag=[3])"
   ]
  },
  {
   "cell_type": "code",
   "execution_count": 45,
   "metadata": {},
   "outputs": [
    {
     "name": "stdout",
     "output_type": "stream",
     "text": [
      "\n",
      "Granger Causality\n",
      "number of lags (no zero) 3\n",
      "ssr based F test:         F=0.5105  , p=0.6754  , df_denom=282, df_num=3\n",
      "ssr based chi2 test:   chi2=1.5695  , p=0.6663  , df=3\n",
      "likelihood ratio test: chi2=1.5653  , p=0.6673  , df=3\n",
      "parameter F test:         F=0.5105  , p=0.6754  , df_denom=282, df_num=3\n"
     ]
    },
    {
     "data": {
      "text/plain": [
       "{3: ({'ssr_ftest': (0.5105000407998619, 0.6753502366062617, 282.0, 3),\n",
       "   'ssr_chi2test': (1.5695160828846815, 0.6663214231461254, 3),\n",
       "   'lrtest': (1.5652695464341377, 0.6672900996527893, 3),\n",
       "   'params_ftest': (0.51050004079988, 0.6753502366062472, 282.0, 3.0)},\n",
       "  [<statsmodels.regression.linear_model.RegressionResultsWrapper at 0x294846f36a0>,\n",
       "   <statsmodels.regression.linear_model.RegressionResultsWrapper at 0x294846f33d0>,\n",
       "   array([[0., 0., 0., 1., 0., 0., 0.],\n",
       "          [0., 0., 0., 0., 1., 0., 0.],\n",
       "          [0., 0., 0., 0., 0., 1., 0.]])])}"
      ]
     },
     "execution_count": 45,
     "metadata": {},
     "output_type": "execute_result"
    }
   ],
   "source": [
    "# Coffee\n",
    "grangercausalitytests(fires_commodities[['fires', 'coffee']], maxlag=[3])"
   ]
  },
  {
   "cell_type": "code",
   "execution_count": 46,
   "metadata": {},
   "outputs": [
    {
     "name": "stdout",
     "output_type": "stream",
     "text": [
      "\n",
      "Granger Causality\n",
      "number of lags (no zero) 3\n",
      "ssr based F test:         F=1.3492  , p=0.2587  , df_denom=282, df_num=3\n",
      "ssr based chi2 test:   chi2=4.1482  , p=0.2459  , df=3\n",
      "likelihood ratio test: chi2=4.1187  , p=0.2489  , df=3\n",
      "parameter F test:         F=1.3492  , p=0.2587  , df_denom=282, df_num=3\n"
     ]
    },
    {
     "data": {
      "text/plain": [
       "{3: ({'ssr_ftest': (1.3492485461946873, 0.2586619703535822, 282.0, 3),\n",
       "   'ssr_chi2test': (4.148221594151751, 0.24589728324253934, 3),\n",
       "   'lrtest': (4.118732266030747, 0.2489253217378368, 3),\n",
       "   'params_ftest': (1.3492485461947157, 0.25866197035356653, 282.0, 3.0)},\n",
       "  [<statsmodels.regression.linear_model.RegressionResultsWrapper at 0x294846f3130>,\n",
       "   <statsmodels.regression.linear_model.RegressionResultsWrapper at 0x294846f3d00>,\n",
       "   array([[0., 0., 0., 1., 0., 0., 0.],\n",
       "          [0., 0., 0., 0., 1., 0., 0.],\n",
       "          [0., 0., 0., 0., 0., 1., 0.]])])}"
      ]
     },
     "execution_count": 46,
     "metadata": {},
     "output_type": "execute_result"
    }
   ],
   "source": [
    "# Soy\n",
    "grangercausalitytests(fires_commodities[['fires', 'soy']], maxlag=[3])"
   ]
  },
  {
   "cell_type": "markdown",
   "metadata": {},
   "source": [
    "# Granger Causality Tests (Future Prices)"
   ]
  },
  {
   "cell_type": "code",
   "execution_count": 18,
   "metadata": {},
   "outputs": [],
   "source": [
    "# Merge two datasets\n",
    "fires_commodities_futures = fires_national.merge(commodities_f, left_on = 'date', right_on ='Date').drop('Date', axis = 1)"
   ]
  },
  {
   "cell_type": "code",
   "execution_count": 19,
   "metadata": {},
   "outputs": [
    {
     "name": "stdout",
     "output_type": "stream",
     "text": [
      "\n",
      "Granger Causality\n",
      "number of lags (no zero) 3\n",
      "ssr based F test:         F=0.4618  , p=0.7092  , df_denom=282, df_num=3\n",
      "ssr based chi2 test:   chi2=1.4197  , p=0.7009  , df=3\n",
      "likelihood ratio test: chi2=1.4162  , p=0.7017  , df=3\n",
      "parameter F test:         F=0.4618  , p=0.7092  , df_denom=282, df_num=3\n"
     ]
    },
    {
     "data": {
      "text/plain": [
       "{3: ({'ssr_ftest': (0.46177029052588614, 0.7092037350608094, 282.0, 3),\n",
       "   'ssr_chi2test': (1.4196980208721393, 0.7009239711668387, 3),\n",
       "   'lrtest': (1.4162223013900075, 0.7017365782661671, 3),\n",
       "   'params_ftest': (0.4617702905258927, 0.7092037350607945, 282.0, 3.0)},\n",
       "  [<statsmodels.regression.linear_model.RegressionResultsWrapper at 0x15beae89430>,\n",
       "   <statsmodels.regression.linear_model.RegressionResultsWrapper at 0x15b8a435880>,\n",
       "   array([[0., 0., 0., 1., 0., 0., 0.],\n",
       "          [0., 0., 0., 0., 1., 0., 0.],\n",
       "          [0., 0., 0., 0., 0., 1., 0.]])])}"
      ]
     },
     "execution_count": 19,
     "metadata": {},
     "output_type": "execute_result"
    }
   ],
   "source": [
    "# Beef\n",
    "grangercausalitytests(fires_commodities_futures[['fires', 'f_beef']], maxlag=[3])"
   ]
  },
  {
   "cell_type": "code",
   "execution_count": 20,
   "metadata": {},
   "outputs": [
    {
     "name": "stdout",
     "output_type": "stream",
     "text": [
      "\n",
      "Granger Causality\n",
      "number of lags (no zero) 3\n",
      "ssr based F test:         F=0.6017  , p=0.6144  , df_denom=282, df_num=3\n",
      "ssr based chi2 test:   chi2=1.8501  , p=0.6041  , df=3\n",
      "likelihood ratio test: chi2=1.8442  , p=0.6054  , df=3\n",
      "parameter F test:         F=0.6017  , p=0.6144  , df_denom=282, df_num=3\n"
     ]
    },
    {
     "data": {
      "text/plain": [
       "{3: ({'ssr_ftest': (0.6017466300124396, 0.6143539922809163, 282.0, 3),\n",
       "   'ssr_chi2test': (1.8500508092935644, 0.604104351003788, 3),\n",
       "   'lrtest': (1.8441543547214678, 0.6053739110367358, 3),\n",
       "   'params_ftest': (0.6017466300124534, 0.6143539922809163, 282.0, 3.0)},\n",
       "  [<statsmodels.regression.linear_model.RegressionResultsWrapper at 0x15b8a365d00>,\n",
       "   <statsmodels.regression.linear_model.RegressionResultsWrapper at 0x15b8a365d30>,\n",
       "   array([[0., 0., 0., 1., 0., 0., 0.],\n",
       "          [0., 0., 0., 0., 1., 0., 0.],\n",
       "          [0., 0., 0., 0., 0., 1., 0.]])])}"
      ]
     },
     "execution_count": 20,
     "metadata": {},
     "output_type": "execute_result"
    }
   ],
   "source": [
    "# Corn\n",
    "grangercausalitytests(fires_commodities_futures[['fires', 'f_corn']], maxlag=[3])"
   ]
  },
  {
   "cell_type": "code",
   "execution_count": 21,
   "metadata": {},
   "outputs": [
    {
     "name": "stdout",
     "output_type": "stream",
     "text": [
      "\n",
      "Granger Causality\n",
      "number of lags (no zero) 3\n",
      "ssr based F test:         F=5.4272  , p=0.0012  , df_denom=282, df_num=3\n",
      "ssr based chi2 test:   chi2=16.6856 , p=0.0008  , df=3\n",
      "likelihood ratio test: chi2=16.2217 , p=0.0010  , df=3\n",
      "parameter F test:         F=5.4272  , p=0.0012  , df_denom=282, df_num=3\n"
     ]
    },
    {
     "data": {
      "text/plain": [
       "{3: ({'ssr_ftest': (5.427162561840838, 0.0012133244166585265, 282.0, 3),\n",
       "   'ssr_chi2test': (16.685638089063854, 0.000820130634091877, 3),\n",
       "   'lrtest': (16.22173162962281, 0.0010212487042462744, 3),\n",
       "   'params_ftest': (5.427162561840817, 0.0012133244166585492, 282.0, 3.0)},\n",
       "  [<statsmodels.regression.linear_model.RegressionResultsWrapper at 0x15b8a435fd0>,\n",
       "   <statsmodels.regression.linear_model.RegressionResultsWrapper at 0x15b8a435520>,\n",
       "   array([[0., 0., 0., 1., 0., 0., 0.],\n",
       "          [0., 0., 0., 0., 1., 0., 0.],\n",
       "          [0., 0., 0., 0., 0., 1., 0.]])])}"
      ]
     },
     "execution_count": 21,
     "metadata": {},
     "output_type": "execute_result"
    }
   ],
   "source": [
    "# Sugar\n",
    "grangercausalitytests(fires_commodities_futures[['fires', 'f_sugar']], maxlag=[3])"
   ]
  },
  {
   "cell_type": "code",
   "execution_count": 22,
   "metadata": {},
   "outputs": [
    {
     "name": "stdout",
     "output_type": "stream",
     "text": [
      "\n",
      "Granger Causality\n",
      "number of lags (no zero) 3\n",
      "ssr based F test:         F=0.6369  , p=0.5918  , df_denom=282, df_num=3\n",
      "ssr based chi2 test:   chi2=1.9582  , p=0.5811  , df=3\n",
      "likelihood ratio test: chi2=1.9516  , p=0.5825  , df=3\n",
      "parameter F test:         F=0.6369  , p=0.5918  , df_denom=282, df_num=3\n"
     ]
    },
    {
     "data": {
      "text/plain": [
       "{3: ({'ssr_ftest': (0.6369246481512533, 0.5917832965392767, 282.0, 3),\n",
       "   'ssr_chi2test': (1.9582045033586404, 0.58112667420706, 3),\n",
       "   'lrtest': (1.9516001245592633, 0.5825128007208489, 3),\n",
       "   'params_ftest': (0.6369246481512504, 0.5917832965392767, 282.0, 3.0)},\n",
       "  [<statsmodels.regression.linear_model.RegressionResultsWrapper at 0x15b8a4351f0>,\n",
       "   <statsmodels.regression.linear_model.RegressionResultsWrapper at 0x15b8a435df0>,\n",
       "   array([[0., 0., 0., 1., 0., 0., 0.],\n",
       "          [0., 0., 0., 0., 1., 0., 0.],\n",
       "          [0., 0., 0., 0., 0., 1., 0.]])])}"
      ]
     },
     "execution_count": 22,
     "metadata": {},
     "output_type": "execute_result"
    }
   ],
   "source": [
    "# Coffee\n",
    "grangercausalitytests(fires_commodities_futures[['fires', 'f_coffee']], maxlag=[3])"
   ]
  },
  {
   "cell_type": "code",
   "execution_count": 23,
   "metadata": {},
   "outputs": [
    {
     "name": "stdout",
     "output_type": "stream",
     "text": [
      "\n",
      "Granger Causality\n",
      "number of lags (no zero) 3\n",
      "ssr based F test:         F=1.1142  , p=0.3436  , df_denom=282, df_num=3\n",
      "ssr based chi2 test:   chi2=3.4257  , p=0.3305  , df=3\n",
      "likelihood ratio test: chi2=3.4056  , p=0.3332  , df=3\n",
      "parameter F test:         F=1.1142  , p=0.3436  , df_denom=282, df_num=3\n"
     ]
    },
    {
     "data": {
      "text/plain": [
       "{3: ({'ssr_ftest': (1.1142428134797844, 0.3436337148305664, 282.0, 3),\n",
       "   'ssr_chi2test': (3.425703969102742, 0.33052667353465176, 3),\n",
       "   'lrtest': (3.405559460728, 0.33321887687001955, 3),\n",
       "   'params_ftest': (1.1142428134807292, 0.3436337148301731, 282.0, 3.0)},\n",
       "  [<statsmodels.regression.linear_model.RegressionResultsWrapper at 0x15b8a3facd0>,\n",
       "   <statsmodels.regression.linear_model.RegressionResultsWrapper at 0x15b8a3fa8b0>,\n",
       "   array([[0., 0., 0., 1., 0., 0., 0.],\n",
       "          [0., 0., 0., 0., 1., 0., 0.],\n",
       "          [0., 0., 0., 0., 0., 1., 0.]])])}"
      ]
     },
     "execution_count": 23,
     "metadata": {},
     "output_type": "execute_result"
    }
   ],
   "source": [
    "# Soy\n",
    "grangercausalitytests(fires_commodities_futures[['fires', 'f_soy']], maxlag=[3])"
   ]
  },
  {
   "cell_type": "code",
   "execution_count": null,
   "metadata": {},
   "outputs": [],
   "source": [
    "# Transform data to be stationary using cofounders (VAR), run stationary test and then apply Granger Causality\n",
    "# Check Granger causality for all of the prices together and add cofounders (one test)\n",
    "# Apply LASSO method and compare \n",
    "# Validate Granger causality - why does p-value increases as the number of lags increases?\n",
    "# Push to github\n",
    "# How to extend this to states (panel level?) (Leave for it later)"
   ]
  }
 ],
 "metadata": {
  "kernelspec": {
   "display_name": "Python 3",
   "language": "python",
   "name": "python3"
  },
  "language_info": {
   "codemirror_mode": {
    "name": "ipython",
    "version": 3
   },
   "file_extension": ".py",
   "mimetype": "text/x-python",
   "name": "python",
   "nbconvert_exporter": "python",
   "pygments_lexer": "ipython3",
   "version": "3.8.3"
  },
  "latex_envs": {
   "LaTeX_envs_menu_present": true,
   "autoclose": false,
   "autocomplete": true,
   "bibliofile": "biblio.bib",
   "cite_by": "apalike",
   "current_citInitial": 1,
   "eqLabelWithNumbers": true,
   "eqNumInitial": 1,
   "hotkeys": {
    "equation": "Ctrl-E",
    "itemize": "Ctrl-I"
   },
   "labels_anchors": false,
   "latex_user_defs": false,
   "report_style_numbering": false,
   "user_envs_cfg": false
  },
  "toc": {
   "base_numbering": 1,
   "nav_menu": {},
   "number_sections": true,
   "sideBar": true,
   "skip_h1_title": false,
   "title_cell": "Table of Contents",
   "title_sidebar": "Contents",
   "toc_cell": false,
   "toc_position": {},
   "toc_section_display": true,
   "toc_window_display": true
  }
 },
 "nbformat": 4,
 "nbformat_minor": 4
}
