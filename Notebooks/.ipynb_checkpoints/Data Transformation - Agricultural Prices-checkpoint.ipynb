{
 "cells": [
  {
   "cell_type": "code",
   "execution_count": 1,
   "metadata": {},
   "outputs": [],
   "source": [
    "import pandas as pd\n",
    "import numpy as np\n",
    "import matplotlib.pyplot as plt"
   ]
  },
  {
   "cell_type": "code",
   "execution_count": 112,
   "metadata": {},
   "outputs": [],
   "source": [
    "root = r\"C:\\Users\\mathe\\Documents\\Stanford\\Stats 207\\Final Project\\granger-casusality-agro\\Data\\Raw Data\"\n",
    "beef = pd.read_csv(root + \"/PBEEFUSDM.csv\")\n",
    "coffee = pd.read_csv(root + \"/PCOFFOTMUSDM.csv\")\n",
    "soy = pd.read_csv(root + \"/PSOYBUSDM.csv\")\n",
    "corn = pd.read_csv(root + \"/PMAIZMTUSDM.csv\")\n",
    "sugar = pd.read_csv(root + \"/PSUGAISAUSDM.csv\")\n",
    "brl = pd.read_csv(root + \"/EXBZUS.csv\")"
   ]
  },
  {
   "cell_type": "code",
   "execution_count": 113,
   "metadata": {},
   "outputs": [],
   "source": [
    "df = beef\n",
    "df = df.merge(coffee['PCOFFOTMUSDM'], left_index = True, right_index = True)\n",
    "df = df.merge(soy['PSOYBUSDM'], left_index = True, right_index = True)\n",
    "df = df.merge(corn['PMAIZMTUSDM'], left_index = True, right_index = True)\n",
    "df = df.merge(sugar['PSUGAISAUSDM'], left_index = True, right_index = True)"
   ]
  },
  {
   "cell_type": "code",
   "execution_count": 114,
   "metadata": {},
   "outputs": [],
   "source": [
    "df.rename(columns = {'PBEEFUSDM': \"beef\", \"PCOFFOTMUSDM\": \"coffee\", \"PSOYBUSDM\":\"soy\", \"PMAIZMTUSDM\": \"corn\", \"PSUGAISAUSDM\":\"sugar\"}, inplace = True)"
   ]
  },
  {
   "cell_type": "code",
   "execution_count": 115,
   "metadata": {},
   "outputs": [],
   "source": [
    "df = df.loc[(df.DATE >= '1998-01-01') & (df.DATE < '2022-10-01')]\n",
    "brl = brl.loc[(brl.DATE >= '1998-01-01') & (brl.DATE < '2022-10-01')]"
   ]
  },
  {
   "cell_type": "code",
   "execution_count": 116,
   "metadata": {},
   "outputs": [],
   "source": [
    "df.reset_index(inplace = True)\n",
    "df.drop('index', axis = 1, inplace = True)\n",
    "brl.reset_index(inplace = True)\n",
    "brl.drop('index', axis = 1, inplace = True)"
   ]
  },
  {
   "cell_type": "code",
   "execution_count": 120,
   "metadata": {},
   "outputs": [],
   "source": [
    "df = df.merge(brl['EXBZUS'], left_index = True, right_index = True)"
   ]
  },
  {
   "cell_type": "code",
   "execution_count": 122,
   "metadata": {},
   "outputs": [],
   "source": [
    "df['beef'] = df['beef']*df['EXBZUS']\n",
    "df['coffee'] = df['coffee']*df['EXBZUS']\n",
    "df['soy'] = df['soy']*df['EXBZUS']\n",
    "df['corn'] = df['corn']*df['EXBZUS']\n",
    "df['sugar'] = df['sugar']*df['EXBZUS']"
   ]
  },
  {
   "cell_type": "code",
   "execution_count": 124,
   "metadata": {},
   "outputs": [],
   "source": [
    "df.to_csv(r'C:\\Users\\mathe\\Documents\\Stanford\\Stats 207\\Final Project\\granger-casusality-agro\\Data\\commodities_prices.csv')"
   ]
  },
  {
   "cell_type": "code",
   "execution_count": null,
   "metadata": {},
   "outputs": [],
   "source": []
  }
 ],
 "metadata": {
  "kernelspec": {
   "display_name": "Python 3",
   "language": "python",
   "name": "python3"
  },
  "language_info": {
   "codemirror_mode": {
    "name": "ipython",
    "version": 3
   },
   "file_extension": ".py",
   "mimetype": "text/x-python",
   "name": "python",
   "nbconvert_exporter": "python",
   "pygments_lexer": "ipython3",
   "version": "3.8.3"
  },
  "latex_envs": {
   "LaTeX_envs_menu_present": true,
   "autoclose": false,
   "autocomplete": true,
   "bibliofile": "biblio.bib",
   "cite_by": "apalike",
   "current_citInitial": 1,
   "eqLabelWithNumbers": true,
   "eqNumInitial": 1,
   "hotkeys": {
    "equation": "Ctrl-E",
    "itemize": "Ctrl-I"
   },
   "labels_anchors": false,
   "latex_user_defs": false,
   "report_style_numbering": false,
   "user_envs_cfg": false
  },
  "toc": {
   "base_numbering": 1,
   "nav_menu": {},
   "number_sections": true,
   "sideBar": true,
   "skip_h1_title": false,
   "title_cell": "Table of Contents",
   "title_sidebar": "Contents",
   "toc_cell": false,
   "toc_position": {},
   "toc_section_display": true,
   "toc_window_display": true
  }
 },
 "nbformat": 4,
 "nbformat_minor": 4
}
