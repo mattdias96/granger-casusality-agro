{
 "cells": [
  {
   "cell_type": "code",
   "execution_count": 3,
   "metadata": {},
   "outputs": [],
   "source": [
    "import pandas as pd\n",
    "import numpy as np\n",
    "import matplotlib.pyplot as plt"
   ]
  },
  {
   "cell_type": "code",
   "execution_count": 53,
   "metadata": {},
   "outputs": [],
   "source": [
    "root = r\"C:\\Users\\mathe\\Documents\\Stanford\\Stats 207\\Final Project\\granger-casusality-agro\\Data\\Raw Data\""
   ]
  },
  {
   "cell_type": "markdown",
   "metadata": {},
   "source": [
    "## Spot Prices"
   ]
  },
  {
   "cell_type": "code",
   "execution_count": 94,
   "metadata": {},
   "outputs": [],
   "source": [
    "beef = pd.read_csv(root + \"/PBEEFUSDM.csv\")\n",
    "coffee = pd.read_csv(root + \"/PCOFFOTMUSDM.csv\")\n",
    "soy = pd.read_csv(root + \"/PSOYBUSDM.csv\")\n",
    "corn = pd.read_csv(root + \"/PMAIZMTUSDM.csv\")\n",
    "sugar = pd.read_csv(root + \"/PSUGAISAUSDM.csv\")\n",
    "brl = pd.read_csv(root + \"/EXBZUS.csv\")"
   ]
  },
  {
   "cell_type": "code",
   "execution_count": 95,
   "metadata": {},
   "outputs": [],
   "source": [
    "df = beef\n",
    "df = df.merge(coffee['PCOFFOTMUSDM'], left_index = True, right_index = True)\n",
    "df = df.merge(soy['PSOYBUSDM'], left_index = True, right_index = True)\n",
    "df = df.merge(corn['PMAIZMTUSDM'], left_index = True, right_index = True)\n",
    "df = df.merge(sugar['PSUGAISAUSDM'], left_index = True, right_index = True)"
   ]
  },
  {
   "cell_type": "code",
   "execution_count": 96,
   "metadata": {},
   "outputs": [],
   "source": [
    "df.rename(columns = {'PBEEFUSDM': \"beef\", \"PCOFFOTMUSDM\": \"coffee\", \"PSOYBUSDM\":\"soy\", \"PMAIZMTUSDM\": \"corn\", \"PSUGAISAUSDM\":\"sugar\"}, inplace = True)"
   ]
  },
  {
   "cell_type": "code",
   "execution_count": 97,
   "metadata": {},
   "outputs": [],
   "source": [
    "df = df.loc[(df.DATE >= '1998-01-01') & (df.DATE < '2022-01-01')]\n",
    "brl = brl.loc[(brl.DATE >= '1998-01-01') & (brl.DATE < '2022-01-01')]"
   ]
  },
  {
   "cell_type": "code",
   "execution_count": 98,
   "metadata": {},
   "outputs": [],
   "source": [
    "df.reset_index(inplace = True)\n",
    "df.drop('index', axis = 1, inplace = True)\n",
    "brl.reset_index(inplace = True)\n",
    "brl.drop('index', axis = 1, inplace = True)"
   ]
  },
  {
   "cell_type": "code",
   "execution_count": 99,
   "metadata": {},
   "outputs": [],
   "source": [
    "df = df.merge(brl['EXBZUS'], left_index = True, right_index = True)"
   ]
  },
  {
   "cell_type": "code",
   "execution_count": 100,
   "metadata": {},
   "outputs": [],
   "source": [
    "df['beef'] = df['beef']*df['EXBZUS']\n",
    "df['coffee'] = df['coffee']*df['EXBZUS']\n",
    "df['soy'] = df['soy']*df['EXBZUS']\n",
    "df['corn'] = df['corn']*df['EXBZUS']\n",
    "df['sugar'] = df['sugar']*df['EXBZUS']"
   ]
  },
  {
   "cell_type": "code",
   "execution_count": 101,
   "metadata": {},
   "outputs": [],
   "source": [
    "df.to_csv(r'C:\\Users\\mathe\\Documents\\Stanford\\Stats 207\\Final Project\\granger-casusality-agro\\Data\\commodities_prices.csv')"
   ]
  },
  {
   "cell_type": "markdown",
   "metadata": {},
   "source": [
    "## Future Prices"
   ]
  },
  {
   "cell_type": "code",
   "execution_count": 102,
   "metadata": {},
   "outputs": [],
   "source": [
    "# All Futures data is US only\n",
    "# Could not find ground beef, just live cattle\n",
    "# Avg Price of the day"
   ]
  },
  {
   "cell_type": "code",
   "execution_count": 103,
   "metadata": {},
   "outputs": [],
   "source": [
    "f_beef = pd.read_csv(root + \"/Live Cattle Futures Historical Data.csv\")[['Date', 'Price']].rename(columns = {'Price':'f_beef'})\n",
    "f_coffee = pd.read_csv(root + \"/US Coffee C Futures Historical Data.csv\")[['Date', 'Price']].rename(columns = {'Price':'f_coffee'})\n",
    "f_soy = pd.read_csv(root + \"/US Soybeans Futures Historical Data.csv\")[['Date', 'Price']].rename(columns = {'Price':'f_soy'})\n",
    "f_corn = pd.read_csv(root + \"/US Corn Futures Historical Data.csv\")[['Date', 'Price']].rename(columns = {'Price':'f_corn'})\n",
    "f_sugar = pd.read_csv(root + \"/US Sugar #11 Futures Historical Data.csv\")[['Date', 'Price']].rename(columns = {'Price':'f_sugar'})"
   ]
  },
  {
   "cell_type": "code",
   "execution_count": 104,
   "metadata": {},
   "outputs": [],
   "source": [
    "f_df = f_beef\n",
    "f_df = f_df.merge(f_coffee['f_coffee'], left_index = True, right_index = True)\n",
    "f_df = f_df.merge(f_soy['f_soy'], left_index = True, right_index = True)\n",
    "f_df = f_df.merge(f_corn['f_corn'], left_index = True, right_index = True)\n",
    "f_df = f_df.merge(f_sugar['f_sugar'], left_index = True, right_index = True)"
   ]
  },
  {
   "cell_type": "code",
   "execution_count": 105,
   "metadata": {},
   "outputs": [],
   "source": [
    "f_df['Date'] = pd.to_datetime(f_df['Date'])"
   ]
  },
  {
   "cell_type": "code",
   "execution_count": 107,
   "metadata": {},
   "outputs": [],
   "source": [
    "f_df = f_df.loc[(f_df.Date >= '1998-01-01') & (f_df.Date < '2022-01-01')]"
   ]
  },
  {
   "cell_type": "code",
   "execution_count": 108,
   "metadata": {},
   "outputs": [],
   "source": [
    "f_df['f_soy'] = f_df['f_soy'].str.replace(',', '')"
   ]
  },
  {
   "cell_type": "code",
   "execution_count": 109,
   "metadata": {},
   "outputs": [],
   "source": [
    "f_df.to_csv(r\"C:\\Users\\mathe\\Documents\\Stanford\\Stats 207\\Final Project\\granger-casusality-agro\\Data\\commodities_prices_futures.csv\")"
   ]
  },
  {
   "cell_type": "markdown",
   "metadata": {},
   "source": [
    "## Average National Precipitation"
   ]
  },
  {
   "cell_type": "code",
   "execution_count": 32,
   "metadata": {},
   "outputs": [],
   "source": [
    "precipitation = pd.read_csv(root + \"\\precipitation_brazil_1998_2021.csv\")"
   ]
  },
  {
   "cell_type": "code",
   "execution_count": 33,
   "metadata": {},
   "outputs": [],
   "source": [
    "precipitation.rename(columns = {'Unnamed: 0':'year'}, inplace = True)\n",
    "precipitation = pd.melt(precipitation, id_vars = ['year'], var_name = 'month', value_name = 'precipitation')\n",
    "precipitation.replace({'Jan': '01', 'Feb': '02', 'Mar': '03', 'Apr': '04', 'May': '05', 'Jun': '06', 'Jul': '07', \n",
    "                                'Aug': '08', 'Sep': '09', 'Oct': '10', 'Nov': '11', 'Dec': '12'}, inplace = True)\n",
    "precipitation['day'] = '01'\n",
    "precipitation['date'] = pd.to_datetime(precipitation['year'].astype(str) + precipitation['month'] + precipitation['day'])"
   ]
  },
  {
   "cell_type": "code",
   "execution_count": 48,
   "metadata": {},
   "outputs": [
    {
     "data": {
      "text/plain": [
       "(288, 5)"
      ]
     },
     "execution_count": 48,
     "metadata": {},
     "output_type": "execute_result"
    }
   ],
   "source": [
    "precipitation.shape"
   ]
  },
  {
   "cell_type": "code",
   "execution_count": 90,
   "metadata": {},
   "outputs": [],
   "source": [
    "precipitation = precipitation.loc[(precipitation.date >= '1998-06-01') & (precipitation.date < '2022-01-01')]"
   ]
  },
  {
   "cell_type": "code",
   "execution_count": 91,
   "metadata": {},
   "outputs": [],
   "source": [
    "precipitation[['date', 'precipitation']].to_csv(r'C:\\Users\\mathe\\Documents\\Stanford\\Stats 207\\Final Project\\granger-casusality-agro\\Data\\precipitation.csv')"
   ]
  },
  {
   "cell_type": "markdown",
   "metadata": {},
   "source": [
    "## Average National Temperature"
   ]
  },
  {
   "cell_type": "code",
   "execution_count": 86,
   "metadata": {},
   "outputs": [],
   "source": [
    "temperature = pd.read_csv(r'C:\\Users\\mathe\\Documents\\Stanford\\Stats 207\\Final Project\\granger-casusality-agro\\Data\\Raw Data\\temperature_brazil_1998_2021.csv')\n"
   ]
  },
  {
   "cell_type": "code",
   "execution_count": 87,
   "metadata": {},
   "outputs": [],
   "source": [
    "temperature.rename(columns = {'Unnamed: 0':'year'}, inplace = True)\n",
    "temperature = pd.melt(temperature, id_vars = ['year'], var_name = 'month', value_name = 'temperature')\n",
    "temperature.replace({'Jan': '01', 'Feb': '02', 'Mar': '03', 'Apr': '04', 'May': '05', 'Jun': '06', 'Jul': '07', \n",
    "                               'Aug': '08', 'Sep': '09', 'Oct': '10', 'Nov': '11', 'Dec': '12'}, inplace = True)\n",
    "temperature['day'] = '01'\n",
    "temperature['date'] = pd.to_datetime(temperature['year'].astype(str) + temperature['month'] + temperature['day'])"
   ]
  },
  {
   "cell_type": "code",
   "execution_count": 92,
   "metadata": {},
   "outputs": [],
   "source": [
    "temperature = temperature.loc[(temperature.date >= '1998-06-01') & (temperature.date < '2022-01-01')]"
   ]
  },
  {
   "cell_type": "code",
   "execution_count": 93,
   "metadata": {},
   "outputs": [],
   "source": [
    "temperature[['date', 'temperature']].to_csv(r'C:\\Users\\mathe\\Documents\\Stanford\\Stats 207\\Final Project\\granger-casusality-agro\\Data\\temperature.csv')"
   ]
  },
  {
   "cell_type": "code",
   "execution_count": null,
   "metadata": {},
   "outputs": [],
   "source": [
    "## Average Humidity"
   ]
  },
  {
   "cell_type": "code",
   "execution_count": null,
   "metadata": {},
   "outputs": [],
   "source": [
    "## Average Wind Speed"
   ]
  }
 ],
 "metadata": {
  "kernelspec": {
   "display_name": "Python 3",
   "language": "python",
   "name": "python3"
  },
  "language_info": {
   "codemirror_mode": {
    "name": "ipython",
    "version": 3
   },
   "file_extension": ".py",
   "mimetype": "text/x-python",
   "name": "python",
   "nbconvert_exporter": "python",
   "pygments_lexer": "ipython3",
   "version": "3.8.3"
  },
  "latex_envs": {
   "LaTeX_envs_menu_present": true,
   "autoclose": false,
   "autocomplete": true,
   "bibliofile": "biblio.bib",
   "cite_by": "apalike",
   "current_citInitial": 1,
   "eqLabelWithNumbers": true,
   "eqNumInitial": 1,
   "hotkeys": {
    "equation": "Ctrl-E",
    "itemize": "Ctrl-I"
   },
   "labels_anchors": false,
   "latex_user_defs": false,
   "report_style_numbering": false,
   "user_envs_cfg": false
  },
  "toc": {
   "base_numbering": 1,
   "nav_menu": {},
   "number_sections": true,
   "sideBar": true,
   "skip_h1_title": false,
   "title_cell": "Table of Contents",
   "title_sidebar": "Contents",
   "toc_cell": false,
   "toc_position": {},
   "toc_section_display": true,
   "toc_window_display": true
  }
 },
 "nbformat": 4,
 "nbformat_minor": 4
}
